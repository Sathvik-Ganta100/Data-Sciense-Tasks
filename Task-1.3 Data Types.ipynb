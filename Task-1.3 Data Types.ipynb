{
 "cells": [
  {
   "cell_type": "markdown",
   "id": "9e013da4",
   "metadata": {},
   "source": [
    "# Data Types\n",
    "\n",
    "- int\n",
    "- float\n",
    "- bool\n",
    "- complex\n",
    "- str\n",
    "\n",
    "## Integer (int) \n",
    "int - Numberical value without decimal"
   ]
  },
  {
   "cell_type": "code",
   "execution_count": 1,
   "id": "915c9de6",
   "metadata": {},
   "outputs": [
    {
     "name": "stdout",
     "output_type": "stream",
     "text": [
      "34\n",
      "<class 'int'>\n"
     ]
    }
   ],
   "source": [
    "a = 34\n",
    "print(a)\n",
    "print(type(a)) "
   ]
  },
  {
   "cell_type": "raw",
   "id": "8434547b",
   "metadata": {},
   "source": [
    "Integer can be represented in different forms\n",
    "\n",
    "binary (0b) | octal (0o) | decimal | hexadecimal\n",
    "\n",
    "Ex: 0b11    | Ex: 0o17"
   ]
  },
  {
   "cell_type": "markdown",
   "id": "f4abfc9b",
   "metadata": {},
   "source": [
    "## Binary Integer  (0b)\n",
    "\n",
    "* It contain only 0 & 1's \n",
    "* binary is always int\n",
    "* We cannot convert float type into binary\n",
    "* Any other number (2,3,4...) returns SyntaxError: invalid digit in binary litera"
   ]
  },
  {
   "cell_type": "code",
   "execution_count": 2,
   "id": "21f2588b",
   "metadata": {},
   "outputs": [
    {
     "name": "stdout",
     "output_type": "stream",
     "text": [
      "5\n"
     ]
    },
    {
     "data": {
      "text/plain": [
       "int"
      ]
     },
     "execution_count": 2,
     "metadata": {},
     "output_type": "execute_result"
    }
   ],
   "source": [
    "m = 0b101\n",
    "print(m)\n",
    "\n",
    "type(m)"
   ]
  },
  {
   "cell_type": "code",
   "execution_count": 3,
   "id": "06efebbe",
   "metadata": {},
   "outputs": [
    {
     "name": "stdout",
     "output_type": "stream",
     "text": [
      "13\n"
     ]
    }
   ],
   "source": [
    "print(0b1101)"
   ]
  },
  {
   "cell_type": "markdown",
   "id": "7766cc2e",
   "metadata": {},
   "source": [
    "### How binary works"
   ]
  },
  {
   "cell_type": "raw",
   "id": "24199cd3",
   "metadata": {},
   "source": [
    "0b1101\n",
    "= 1101\n",
    "= 1x2^3 + 1x2^2 + 0x2^1 + 1x2^0\n",
    "= 1x8   + 1x4   + 0x2   + 1x1\n",
    "= 8 + 4 + 0 + 1\n",
    "= 13"
   ]
  },
  {
   "cell_type": "code",
   "execution_count": 4,
   "id": "6ac40b73",
   "metadata": {},
   "outputs": [
    {
     "data": {
      "text/plain": [
       "'0b10001'"
      ]
     },
     "execution_count": 4,
     "metadata": {},
     "output_type": "execute_result"
    }
   ],
   "source": [
    "bin(17)  # bin() ---> Converts integers into binary numbers"
   ]
  },
  {
   "cell_type": "code",
   "execution_count": 5,
   "id": "bd20ea6b",
   "metadata": {},
   "outputs": [
    {
     "ename": "TypeError",
     "evalue": "'float' object cannot be interpreted as an integer",
     "output_type": "error",
     "traceback": [
      "\u001b[1;31m---------------------------------------------------------------------------\u001b[0m",
      "\u001b[1;31mTypeError\u001b[0m                                 Traceback (most recent call last)",
      "Cell \u001b[1;32mIn[5], line 1\u001b[0m\n\u001b[1;32m----> 1\u001b[0m \u001b[38;5;28;43mbin\u001b[39;49m\u001b[43m(\u001b[49m\u001b[38;5;241;43m15.0\u001b[39;49m\u001b[43m)\u001b[49m\n",
      "\u001b[1;31mTypeError\u001b[0m: 'float' object cannot be interpreted as an integer"
     ]
    }
   ],
   "source": [
    "bin(15.0)  # float cannot be converted into binary"
   ]
  },
  {
   "cell_type": "markdown",
   "id": "3923c520",
   "metadata": {},
   "source": [
    "SyntaxError: invalid digit in binary litera"
   ]
  },
  {
   "cell_type": "code",
   "execution_count": 6,
   "id": "bae06313",
   "metadata": {},
   "outputs": [
    {
     "ename": "SyntaxError",
     "evalue": "invalid digit '3' in binary literal (2246023809.py, line 1)",
     "output_type": "error",
     "traceback": [
      "\u001b[1;36m  Cell \u001b[1;32mIn[6], line 1\u001b[1;36m\u001b[0m\n\u001b[1;33m    print(0b32)\u001b[0m\n\u001b[1;37m            ^\u001b[0m\n\u001b[1;31mSyntaxError\u001b[0m\u001b[1;31m:\u001b[0m invalid digit '3' in binary literal\n"
     ]
    }
   ],
   "source": [
    "print(0b32)"
   ]
  },
  {
   "cell_type": "markdown",
   "id": "a4442716",
   "metadata": {},
   "source": [
    "## Octal Integer (0o)\n",
    "\n",
    "* Octal contains 0,1,2,3,4,5,6,7 in it\n",
    "* Octal is always int\n",
    "* We cannot convert float type into octal\n",
    "* Any other number (8,9,10...) returns SyntaxError: invalid digit in octal litera"
   ]
  },
  {
   "cell_type": "code",
   "execution_count": 7,
   "id": "d79c44ce",
   "metadata": {},
   "outputs": [
    {
     "name": "stdout",
     "output_type": "stream",
     "text": [
      "72\n"
     ]
    },
    {
     "data": {
      "text/plain": [
       "int"
      ]
     },
     "execution_count": 7,
     "metadata": {},
     "output_type": "execute_result"
    }
   ],
   "source": [
    "l = 0o110\n",
    "print(l)\n",
    "\n",
    "type(l)"
   ]
  },
  {
   "cell_type": "code",
   "execution_count": 8,
   "id": "66fd0848",
   "metadata": {},
   "outputs": [
    {
     "name": "stdout",
     "output_type": "stream",
     "text": [
      "249\n"
     ]
    }
   ],
   "source": [
    "print(0o371)"
   ]
  },
  {
   "cell_type": "markdown",
   "id": "75cb97fe",
   "metadata": {},
   "source": [
    "### How octal works"
   ]
  },
  {
   "cell_type": "raw",
   "id": "08407ac4",
   "metadata": {},
   "source": [
    "0o371\n",
    "= 371\n",
    "= 3x8^2 + 7x8^1 + 1x8^0\n",
    "= 3x64  + 7x8   + 1x1\n",
    "= 192   + 56    + 1\n",
    "= 249"
   ]
  },
  {
   "cell_type": "code",
   "execution_count": 9,
   "id": "f7d2ecff",
   "metadata": {},
   "outputs": [
    {
     "data": {
      "text/plain": [
       "'0o116'"
      ]
     },
     "execution_count": 9,
     "metadata": {},
     "output_type": "execute_result"
    }
   ],
   "source": [
    "oct(78)   # oct() ---> Converts integers into octal numbers"
   ]
  },
  {
   "cell_type": "code",
   "execution_count": 10,
   "id": "9cba035b",
   "metadata": {},
   "outputs": [
    {
     "ename": "TypeError",
     "evalue": "'float' object cannot be interpreted as an integer",
     "output_type": "error",
     "traceback": [
      "\u001b[1;31m---------------------------------------------------------------------------\u001b[0m",
      "\u001b[1;31mTypeError\u001b[0m                                 Traceback (most recent call last)",
      "Cell \u001b[1;32mIn[10], line 1\u001b[0m\n\u001b[1;32m----> 1\u001b[0m \u001b[38;5;28;43moct\u001b[39;49m\u001b[43m(\u001b[49m\u001b[38;5;241;43m84.5\u001b[39;49m\u001b[43m)\u001b[49m\n",
      "\u001b[1;31mTypeError\u001b[0m: 'float' object cannot be interpreted as an integer"
     ]
    }
   ],
   "source": [
    "oct(84.5)  # float cannot be converted into octal"
   ]
  },
  {
   "cell_type": "markdown",
   "id": "0756fa71",
   "metadata": {},
   "source": [
    "SyntaxError: invalid digit in octal litera"
   ]
  },
  {
   "cell_type": "code",
   "execution_count": 11,
   "id": "75269e22",
   "metadata": {},
   "outputs": [
    {
     "ename": "SyntaxError",
     "evalue": "invalid digit '8' in octal literal (114742128.py, line 1)",
     "output_type": "error",
     "traceback": [
      "\u001b[1;36m  Cell \u001b[1;32mIn[11], line 1\u001b[1;36m\u001b[0m\n\u001b[1;33m    print(0o89)\u001b[0m\n\u001b[1;37m            ^\u001b[0m\n\u001b[1;31mSyntaxError\u001b[0m\u001b[1;31m:\u001b[0m invalid digit '8' in octal literal\n"
     ]
    }
   ],
   "source": [
    "print(0o89)"
   ]
  },
  {
   "cell_type": "markdown",
   "id": "5e6bddcd",
   "metadata": {},
   "source": [
    "## Float\n",
    "\n",
    "float - Numerical value with decimal"
   ]
  },
  {
   "cell_type": "code",
   "execution_count": 12,
   "id": "86ee6dd1",
   "metadata": {},
   "outputs": [
    {
     "name": "stdout",
     "output_type": "stream",
     "text": [
      "8.4\n",
      "<class 'float'>\n"
     ]
    }
   ],
   "source": [
    "b = 8.4\n",
    "print(b)\n",
    "\n",
    "print(type(b))"
   ]
  },
  {
   "cell_type": "raw",
   "id": "02343736",
   "metadata": {},
   "source": [
    "SyntaxError: invalid syntax"
   ]
  },
  {
   "cell_type": "code",
   "execution_count": 13,
   "id": "9893ccd8",
   "metadata": {
    "scrolled": true
   },
   "outputs": [
    {
     "ename": "SyntaxError",
     "evalue": "invalid syntax. Perhaps you forgot a comma? (3587412905.py, line 1)",
     "output_type": "error",
     "traceback": [
      "\u001b[1;36m  Cell \u001b[1;32mIn[13], line 1\u001b[1;36m\u001b[0m\n\u001b[1;33m    print(0o207.9) # float is not allowed in bin & oct\u001b[0m\n\u001b[1;37m          ^\u001b[0m\n\u001b[1;31mSyntaxError\u001b[0m\u001b[1;31m:\u001b[0m invalid syntax. Perhaps you forgot a comma?\n"
     ]
    }
   ],
   "source": [
    "print(0o207.9) # float is not allowed in bin & oct"
   ]
  },
  {
   "cell_type": "raw",
   "id": "cfd1dc6b",
   "metadata": {},
   "source": [
    "int - value without decimal\n",
    "            supports binary integral | octal integral\n",
    "\n",
    "float - value with decimal\n",
    "              doesnot support binary | octal"
   ]
  },
  {
   "cell_type": "markdown",
   "id": "c9a04a98",
   "metadata": {},
   "source": [
    "# Complex"
   ]
  },
  {
   "cell_type": "raw",
   "id": "92bc5be6",
   "metadata": {},
   "source": [
    "Syntax - a + bj       \n",
    "\n",
    "a is real part | B is imaginary part | j is sqrt -1"
   ]
  },
  {
   "cell_type": "markdown",
   "id": "8370fcf5",
   "metadata": {},
   "source": [
    "* We cannot use any other alphabet other than j in complex"
   ]
  },
  {
   "cell_type": "code",
   "execution_count": 14,
   "id": "e8cf4fbb",
   "metadata": {},
   "outputs": [
    {
     "name": "stdout",
     "output_type": "stream",
     "text": [
      "(7+4j)\n"
     ]
    },
    {
     "data": {
      "text/plain": [
       "complex"
      ]
     },
     "execution_count": 14,
     "metadata": {},
     "output_type": "execute_result"
    }
   ],
   "source": [
    "k = 7 + 4j\n",
    "print(k)\n",
    "\n",
    "type(k)"
   ]
  },
  {
   "cell_type": "code",
   "execution_count": 15,
   "id": "bda601b5",
   "metadata": {},
   "outputs": [
    {
     "name": "stdout",
     "output_type": "stream",
     "text": [
      "(13+5j)\n",
      "(-3-1j)\n",
      "(34+31j)\n",
      "(0.6301369863013698+0.0136986301369863j)\n",
      "(-53909.40752534429+219330.48008989022j)\n"
     ]
    }
   ],
   "source": [
    "x = 5 + 2j\n",
    "y = 8 + 3j\n",
    "\n",
    "print(x + y)\n",
    "print(x - y)\n",
    "print(x * y)\n",
    "print(x / y)\n",
    "print(x ** y)"
   ]
  },
  {
   "cell_type": "code",
   "execution_count": 16,
   "id": "610293e0",
   "metadata": {},
   "outputs": [
    {
     "name": "stdout",
     "output_type": "stream",
     "text": [
      "5.0\n",
      "2.0\n"
     ]
    }
   ],
   "source": [
    "print(x.real)     # gives real part of complex number\n",
    "print(x.imag)     # gives imag part of complex number"
   ]
  },
  {
   "cell_type": "markdown",
   "id": "45d09cad",
   "metadata": {},
   "source": [
    "# Boolean (Bool)\n",
    "\n",
    "* Boolean means **True** & **False**\n",
    "* Int values of True - 1  and False - 0"
   ]
  },
  {
   "cell_type": "code",
   "execution_count": 17,
   "id": "25ba6cc7",
   "metadata": {},
   "outputs": [
    {
     "name": "stdout",
     "output_type": "stream",
     "text": [
      "True\n",
      "<class 'bool'>\n"
     ]
    }
   ],
   "source": [
    "n = True \n",
    "print(n)\n",
    "\n",
    "print(type(n))"
   ]
  },
  {
   "cell_type": "code",
   "execution_count": 18,
   "id": "3f345f56",
   "metadata": {},
   "outputs": [
    {
     "data": {
      "text/plain": [
       "0"
      ]
     },
     "execution_count": 18,
     "metadata": {},
     "output_type": "execute_result"
    }
   ],
   "source": [
    "int(False)    # int() --- It shows int value of other data type"
   ]
  },
  {
   "cell_type": "code",
   "execution_count": 19,
   "id": "73d6d11c",
   "metadata": {},
   "outputs": [
    {
     "name": "stdout",
     "output_type": "stream",
     "text": [
      "1\n",
      "0\n",
      "1\n",
      "0.0\n",
      "0\n",
      "0\n"
     ]
    }
   ],
   "source": [
    "print(True + False)\n",
    "print(True - True)\n",
    "print(True * True)\n",
    "print(False / True)\n",
    "print(False // True)\n",
    "print(False ** True)"
   ]
  },
  {
   "cell_type": "raw",
   "id": "e99591ff",
   "metadata": {},
   "source": [
    "ZeroDivisionError: division by zero"
   ]
  },
  {
   "cell_type": "code",
   "execution_count": 20,
   "id": "ba18caf3",
   "metadata": {},
   "outputs": [
    {
     "ename": "ZeroDivisionError",
     "evalue": "division by zero",
     "output_type": "error",
     "traceback": [
      "\u001b[1;31m---------------------------------------------------------------------------\u001b[0m",
      "\u001b[1;31mZeroDivisionError\u001b[0m                         Traceback (most recent call last)",
      "Cell \u001b[1;32mIn[20], line 1\u001b[0m\n\u001b[1;32m----> 1\u001b[0m \u001b[38;5;28mprint\u001b[39m(\u001b[38;5;28;43;01mTrue\u001b[39;49;00m\u001b[43m \u001b[49m\u001b[38;5;241;43m/\u001b[39;49m\u001b[43m \u001b[49m\u001b[38;5;28;43;01mFalse\u001b[39;49;00m)\n",
      "\u001b[1;31mZeroDivisionError\u001b[0m: division by zero"
     ]
    }
   ],
   "source": [
    "print(True / False)  # we cannot divide 0 "
   ]
  },
  {
   "cell_type": "markdown",
   "id": "b0001ade",
   "metadata": {},
   "source": [
    "## String (str)\n",
    "\n",
    "User pass text data to cell string datatype\n",
    "\n",
    "* string always denotes with ' '| \" \" | ''' ''' | \"\"\" \"\"\"\n",
    "* Any thing under quotes is string"
   ]
  },
  {
   "cell_type": "code",
   "execution_count": 21,
   "id": "7d4f2456",
   "metadata": {},
   "outputs": [
    {
     "name": "stdout",
     "output_type": "stream",
     "text": [
      "Hello i am sathvik\n",
      "<class 'str'>\n"
     ]
    }
   ],
   "source": [
    "k = \"Hello i am sathvik\"   # Single line string\n",
    "print(k)\n",
    "\n",
    "print(type(k))"
   ]
  },
  {
   "cell_type": "code",
   "execution_count": 22,
   "id": "0638ca7f",
   "metadata": {},
   "outputs": [
    {
     "name": "stdout",
     "output_type": "stream",
     "text": [
      " Python is a computer programming language \n",
      "often used to build websites and software, automate tasks, \n",
      "and conduct data analysis. \n",
      " \n"
     ]
    }
   ],
   "source": [
    "\n",
    "\n",
    "mk = ''' Python is a computer programming language \n",
    "often used to build websites and software, automate tasks, \n",
    "and conduct data analysis. \n",
    " '''\n",
    "\n",
    "print(mk)   # Multi line string"
   ]
  },
  {
   "cell_type": "code",
   "execution_count": 23,
   "id": "8e9dbd55",
   "metadata": {},
   "outputs": [
    {
     "name": "stdout",
     "output_type": "stream",
     "text": [
      "<class 'str'>\n",
      "<class 'str'>\n",
      "<class 'str'>\n"
     ]
    }
   ],
   "source": [
    "u = '89'          # Any thing under quotes is string\n",
    "g = \"True\"  \n",
    "v = \"5 + 2j\"\n",
    "\n",
    "print(type(u))\n",
    "print(type(g))\n",
    "print(type(v))"
   ]
  }
 ],
 "metadata": {
  "kernelspec": {
   "display_name": "Python 3 (ipykernel)",
   "language": "python",
   "name": "python3"
  },
  "language_info": {
   "codemirror_mode": {
    "name": "ipython",
    "version": 3
   },
   "file_extension": ".py",
   "mimetype": "text/x-python",
   "name": "python",
   "nbconvert_exporter": "python",
   "pygments_lexer": "ipython3",
   "version": "3.10.9"
  }
 },
 "nbformat": 4,
 "nbformat_minor": 5
}
